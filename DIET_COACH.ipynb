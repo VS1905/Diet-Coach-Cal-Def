{
  "nbformat": 4,
  "nbformat_minor": 0,
  "metadata": {
    "colab": {
      "provenance": []
    },
    "kernelspec": {
      "name": "python3",
      "display_name": "Python 3"
    },
    "language_info": {
      "name": "python"
    }
  },
  "cells": [
    {
      "cell_type": "markdown",
      "source": [
        "**Disclaimer: Please do not take the output of this code seriously. It is a casual tool I use to estimate my calorie and protein intake. Additionally, this bot is designed specifically for a calorie-deficit diet.**"
      ],
      "metadata": {
        "id": "KnZ9TUFt4z43"
      }
    },
    {
      "cell_type": "markdown",
      "source": [
        "Also, in the **prompt** field, user has to enter the` [USER_WEIGHT_INPUT] [CALORIES_YOU_SHOULD_EAT_INPUT] & [MAX_CALORIES_INPUT] `fields."
      ],
      "metadata": {
        "id": "3RS3cAum5leX"
      }
    },
    {
      "cell_type": "code",
      "source": [
        "!pip install openai==0.28"
      ],
      "metadata": {
        "colab": {
          "base_uri": "https://localhost:8080/"
        },
        "collapsed": true,
        "id": "mmXtYanOlsrX",
        "outputId": "33d64db6-b4c4-4d3c-c524-a487689f1e08"
      },
      "execution_count": 1,
      "outputs": [
        {
          "output_type": "stream",
          "name": "stdout",
          "text": [
            "Requirement already satisfied: openai==0.28 in /usr/local/lib/python3.10/dist-packages (0.28.0)\n",
            "Requirement already satisfied: requests>=2.20 in /usr/local/lib/python3.10/dist-packages (from openai==0.28) (2.32.3)\n",
            "Requirement already satisfied: tqdm in /usr/local/lib/python3.10/dist-packages (from openai==0.28) (4.66.5)\n",
            "Requirement already satisfied: aiohttp in /usr/local/lib/python3.10/dist-packages (from openai==0.28) (3.10.10)\n",
            "Requirement already satisfied: charset-normalizer<4,>=2 in /usr/local/lib/python3.10/dist-packages (from requests>=2.20->openai==0.28) (3.4.0)\n",
            "Requirement already satisfied: idna<4,>=2.5 in /usr/local/lib/python3.10/dist-packages (from requests>=2.20->openai==0.28) (3.10)\n",
            "Requirement already satisfied: urllib3<3,>=1.21.1 in /usr/local/lib/python3.10/dist-packages (from requests>=2.20->openai==0.28) (2.2.3)\n",
            "Requirement already satisfied: certifi>=2017.4.17 in /usr/local/lib/python3.10/dist-packages (from requests>=2.20->openai==0.28) (2024.8.30)\n",
            "Requirement already satisfied: aiohappyeyeballs>=2.3.0 in /usr/local/lib/python3.10/dist-packages (from aiohttp->openai==0.28) (2.4.3)\n",
            "Requirement already satisfied: aiosignal>=1.1.2 in /usr/local/lib/python3.10/dist-packages (from aiohttp->openai==0.28) (1.3.1)\n",
            "Requirement already satisfied: attrs>=17.3.0 in /usr/local/lib/python3.10/dist-packages (from aiohttp->openai==0.28) (24.2.0)\n",
            "Requirement already satisfied: frozenlist>=1.1.1 in /usr/local/lib/python3.10/dist-packages (from aiohttp->openai==0.28) (1.4.1)\n",
            "Requirement already satisfied: multidict<7.0,>=4.5 in /usr/local/lib/python3.10/dist-packages (from aiohttp->openai==0.28) (6.1.0)\n",
            "Requirement already satisfied: yarl<2.0,>=1.12.0 in /usr/local/lib/python3.10/dist-packages (from aiohttp->openai==0.28) (1.16.0)\n",
            "Requirement already satisfied: async-timeout<5.0,>=4.0 in /usr/local/lib/python3.10/dist-packages (from aiohttp->openai==0.28) (4.0.3)\n",
            "Requirement already satisfied: typing-extensions>=4.1.0 in /usr/local/lib/python3.10/dist-packages (from multidict<7.0,>=4.5->aiohttp->openai==0.28) (4.12.2)\n",
            "Requirement already satisfied: propcache>=0.2.0 in /usr/local/lib/python3.10/dist-packages (from yarl<2.0,>=1.12.0->aiohttp->openai==0.28) (0.2.0)\n"
          ]
        }
      ]
    },
    {
      "cell_type": "code",
      "execution_count": 6,
      "metadata": {
        "colab": {
          "base_uri": "https://localhost:8080/"
        },
        "id": "WggTljuClcf7",
        "outputId": "de27c92b-a3a6-4efb-d45d-252bf60e97fa"
      },
      "outputs": [
        {
          "output_type": "stream",
          "name": "stdout",
          "text": [
            "Diet Coach Says:\n",
            "\n",
            "Day 1:\n",
            "\n",
            "Pre-Workout: 200ml Black Coffee - Approx. 2 calories\n",
            "Breakfast: Oats with milk (200g) and apple (100g) - Approx. 250 calories\n",
            "Lunch: 2 Wheat Roti, Paneer (200g), Cucumber Salad (100g) - Approx. 450 calories\n",
            "Dinner: Boiled Vegetables (Onion 50g, Tomato 50g, Tofu 100g) - Approx. 150 calories\n",
            "\n",
            "Total Calories Consumed: 852 calories\n",
            "\n",
            "Calories Remaining: 458 calories\n",
            "Protein Consumed: \n",
            "Oats - 6g protein\n",
            "Milk - 6g protein\n",
            "Paneer - 24g protein\n",
            "Tofu - 10g protein\n",
            "\n",
            "Total Protein Consumed: 46g\n",
            "\n",
            "Please share the details of your next meal or snack so I can help you stay within your calorie and protein goals.\n"
          ]
        }
      ],
      "source": [
        "\n",
        "import openai\n",
        "\n",
        "#please enter your OpenAI key here\n",
        "\n",
        "openai.api_key = \"YOUR_OPENAI_KEY\"\n",
        "\n",
        "def process_diet_plan(prompt):\n",
        "\n",
        "    response = openai.ChatCompletion.create(\n",
        "\n",
        "        model=\"gpt-3.5-turbo\",\n",
        "\n",
        "        messages=[\n",
        "            {\"role\": \"system\", \"content\": \"You are an Indian Nutritionist.\"},\n",
        "            {\"role\": \"user\", \"content\": prompt}\n",
        "        ],\n",
        "\n",
        "        max_tokens=500,\n",
        "        temperature=0.1\n",
        "\n",
        "        )\n",
        "\n",
        "    return response['choices'][0]['message']['content']\n",
        "\n",
        "# Please enter the following in the prompt: [USER_WEIGHT_INPUT] [CALORIES_YOU_SHOULD_EAT_INPUT] & [MAX_CALORIES_INPUT].\n",
        "\n",
        "prompt = '''\n",
        "\n",
        "Imagine you are a nutritionist specializing in Indian cuisine. I need your expertise to assist me in reaching my weight loss goal.\n",
        "As an Indian individual weighing [USER_WEIGHT_INPUT] kgs, I aim to consume fewer than [CALORIES_YOU_SHOULD_EAT_INPUT] calories daily\n",
        "(max: [MAX_CALORIES_INPUT] calories).\n",
        "Please calculate the calories in the typical foods I eat, such as roti, rice, legumes, and veggies.\n",
        "Your guidance on creating a balanced, calorie-conscious Indian diet plan would be greatly appreciated.\n",
        "\n",
        "Wait for me to put my food and tell the calories in it and how much calories are left in the day to eat and how much protein\n",
        "I ate throughout the day by adding the protein from the previous meals. I need a total of 140g of protein.\n",
        "\n",
        "Each day I'll tell you when a new day starts.\n",
        "\n",
        "THE BELOW PART IS JUST AN EXAMPLE, PLEASE INPUT YOUR SUITABLE DIET.\n",
        "\n",
        "Pre-Workout: 200ml Black Coffee no sugar\n",
        "Breakfast : oats with milk 200g no sugar with apple 100g\n",
        "Lunch: 2 wheat roti , paneer indian style 200g and cucumber salad 100g\n",
        "Dinner: boiled vegetables (onion 50g, tomato 50g, 100g tofu, with some salt and pepper)\n",
        "\n",
        "'''\n",
        "\n",
        "# Process the prompt\n",
        "output = process_diet_plan(prompt)\n",
        "\n",
        "# Display the output\n",
        "print(\"Diet Coach Says:\\n\")\n",
        "print(output)\n"
      ]
    }
  ]
}